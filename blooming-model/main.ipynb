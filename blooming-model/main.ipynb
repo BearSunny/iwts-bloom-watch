{
 "cells": [
  {
   "cell_type": "code",
   "execution_count": 12,
   "id": "a85ae421",
   "metadata": {},
   "outputs": [],
   "source": [
    "import numpy as np\n",
    "import pandas as pd\n",
    "\n",
    "df = pd.read_csv('data.csv')\n",
    "\n",
    "unnessary_features = ['Observation_ID', 'Update_Datetime', 'Observation_Time', \n",
    "                      'Site_ID', 'Site_Name', \n",
    "                      'Individual_ID', \n",
    "                      'Phenophase_ID', 'Phenophase_Category', 'Phenophase_Description', \n",
    "                      'Intensity_Category_ID', 'Intensity_Value', 'Abundance_Value', \n",
    "                      'Kingdom', 'Species_Category']\n",
    "\n",
    "df = df.drop(columns=unnessary_features)\n",
    "df = df[df['Day_of_Year'] <= 365]"
   ]
  },
  {
   "cell_type": "code",
   "execution_count": null,
   "id": "6554e566",
   "metadata": {},
   "outputs": [
    {
     "name": "stdout",
     "output_type": "stream",
     "text": [
      "Rows before: 6503, after dropping Phenophase_Status==-1: 6487, dropped: 16\n"
     ]
    }
   ],
   "source": [
    "# ---------- Drop Phenophase_Status == -1 and report ----------\n",
    "before = len(df)\n",
    "df = df[df['Phenophase_Status'] != -1].copy()\n",
    "after = len(df)\n",
    "print(f\"Rows before: {before}, after dropping Phenophase_Status==-1: {after}, dropped: {before-after}\")"
   ]
  },
  {
   "cell_type": "code",
   "execution_count": null,
   "id": "b30db5e2",
   "metadata": {},
   "outputs": [],
   "source": [
    "# ---------- Fix -9999 error codes in climate features ----------\n",
    "climate_features = ['AGDD','Tmax','Tmin','Prcp','Accum_Prcp','Daylength']\n",
    "# convert -9999 -> NaN\n",
    "df[climate_features] = df[climate_features].replace(-9999, np.nan)\n",
    "\n",
    "# convert Observation_Date to datetime & create year\n",
    "df['Observation_Date'] = pd.to_datetime(df['Observation_Date'])\n",
    "df['year'] = df['Observation_Date'].dt.year\n",
    "\n",
    "# create site_id from lat/lon (simple deterministic encoding)\n",
    "df['site_id'] = (df['Latitude'].round(4).astype(str) + '_' + df['Longitude'].round(4).astype(str))\n",
    "# Optionally map to integers:\n",
    "df['site_id'] = pd.factorize(df['site_id'])[0] + 1  # site_id as ints starting at 1\n",
    "\n",
    "# create daily mean temperature (pyPhenology examples use \"temperature\")\n",
    "df['temperature'] = (df['Tmax'] + df['Tmin']) / 2.0"
   ]
  },
  {
   "cell_type": "code",
   "execution_count": null,
   "id": "57197fd7",
   "metadata": {},
   "outputs": [],
   "source": [
    "# ---------- Interpolate climate missing values per site (time-series interpolation) ----------\n",
    "# sort then interpolate by site\n",
    "df = df.sort_values(['site_id','Observation_Date'])\n",
    "df[climate_features] = df.groupby('site_id')[climate_features].transform(\n",
    "    lambda g: g.interpolate(method='linear', limit_direction='both')\n",
    ")\n",
    "# if still NaN (edges), fill with column median (per-site median could be used)\n",
    "df[climate_features] = df[climate_features].fillna(df[climate_features].median())\n",
    "\n",
    "# also recompute temperature if it used NaNs earlier\n",
    "df['temperature'] = (df['Tmax'] + df['Tmin']) / 2.0"
   ]
  },
  {
   "cell_type": "code",
   "execution_count": null,
   "id": "8406085f",
   "metadata": {},
   "outputs": [
    {
     "name": "stdout",
     "output_type": "stream",
     "text": [
      "Observations (first bloom) sample:\n",
      "  species  site_id  year  doy  phenophase\n",
      "0  annuus        1  2018   76         501\n",
      "1  annuus        3  2018  317         501\n",
      "2  annuus        4  2019  131         501\n",
      "3  annuus        5  2021  117         501\n",
      "4  annuus        5  2022    4         501\n"
     ]
    }
   ],
   "source": [
    "# ---------- Create observations DataFrame (first bloom DOY) ----------\n",
    "# define first bloom per site-species-year: min Day_of_Year where Phenophase_Status==1\n",
    "bloom_obs = (\n",
    "    df[df['Phenophase_Status'] == 1]\n",
    "    .groupby(['site_id','Species','year'], as_index=False)['Day_of_Year']\n",
    "    .min()\n",
    "    .rename(columns={'Species':'species', 'Day_of_Year':'doy'})\n",
    ")\n",
    "# If you prefer use Species_ID instead of species string:\n",
    "# bloom_obs = bloom_obs.rename(columns={'Species_ID':'species_id', ...})\n",
    "\n",
    "# pyPhenology example uses a 'phenophase' id; set a single id (e.g. 501 for 'flowers')\n",
    "bloom_obs['phenophase'] = 501\n",
    "\n",
    "# final observations DataFrame columns: ['species','site_id','year','doy','phenophase']\n",
    "observations = bloom_obs[['species','site_id','year','doy','phenophase']]\n",
    "\n",
    "print(\"Observations (first bloom) sample:\")\n",
    "print(observations.head())"
   ]
  },
  {
   "cell_type": "code",
   "execution_count": null,
   "id": "3d798dae",
   "metadata": {},
   "outputs": [
    {
     "name": "stdout",
     "output_type": "stream",
     "text": [
      "Predictors sample:\n",
      "   site_id  temperature  year    doy\n",
      "0        1        20.00  2018   76.0\n",
      "1        1        20.00  2018   76.0\n",
      "2        2        15.00  2018  150.0\n",
      "3        2        15.00  2018  150.0\n",
      "4        3        10.25  2018  317.0\n"
     ]
    }
   ],
   "source": [
    "# ---------- Create predictors DataFrame (daily temperature series) ----------\n",
    "# pyPhenology predictors expected columns: at least ['site_id','temperature','year','doy']\n",
    "predictors = df[['site_id','temperature','year','Day_of_Year']].rename(columns={'Day_of_Year':'doy'})\n",
    "# ensure types\n",
    "predictors = predictors.astype({'site_id': int, 'year': int, 'doy': float, 'temperature': float})\n",
    "\n",
    "print(\"Predictors sample:\")\n",
    "print(predictors.head())"
   ]
  },
  {
   "cell_type": "code",
   "execution_count": 30,
   "id": "aa94846f",
   "metadata": {},
   "outputs": [
    {
     "data": {
      "text/html": [
       "<div>\n",
       "<style scoped>\n",
       "    .dataframe tbody tr th:only-of-type {\n",
       "        vertical-align: middle;\n",
       "    }\n",
       "\n",
       "    .dataframe tbody tr th {\n",
       "        vertical-align: top;\n",
       "    }\n",
       "\n",
       "    .dataframe thead th {\n",
       "        text-align: right;\n",
       "    }\n",
       "</style>\n",
       "<table border=\"1\" class=\"dataframe\">\n",
       "  <thead>\n",
       "    <tr style=\"text-align: right;\">\n",
       "      <th></th>\n",
       "      <th>site_id</th>\n",
       "      <th>temperature</th>\n",
       "      <th>year</th>\n",
       "      <th>doy</th>\n",
       "    </tr>\n",
       "  </thead>\n",
       "  <tbody>\n",
       "    <tr>\n",
       "      <th>count</th>\n",
       "      <td>6487.000000</td>\n",
       "      <td>6487.000000</td>\n",
       "      <td>6487.000000</td>\n",
       "      <td>6487.000000</td>\n",
       "    </tr>\n",
       "    <tr>\n",
       "      <th>mean</th>\n",
       "      <td>12.505164</td>\n",
       "      <td>16.553695</td>\n",
       "      <td>2019.226761</td>\n",
       "      <td>184.941730</td>\n",
       "    </tr>\n",
       "    <tr>\n",
       "      <th>std</th>\n",
       "      <td>2.222914</td>\n",
       "      <td>5.002215</td>\n",
       "      <td>2.216171</td>\n",
       "      <td>102.479229</td>\n",
       "    </tr>\n",
       "    <tr>\n",
       "      <th>min</th>\n",
       "      <td>1.000000</td>\n",
       "      <td>-3.000000</td>\n",
       "      <td>2016.000000</td>\n",
       "      <td>1.000000</td>\n",
       "    </tr>\n",
       "    <tr>\n",
       "      <th>25%</th>\n",
       "      <td>12.000000</td>\n",
       "      <td>12.402500</td>\n",
       "      <td>2017.000000</td>\n",
       "      <td>97.000000</td>\n",
       "    </tr>\n",
       "    <tr>\n",
       "      <th>50%</th>\n",
       "      <td>12.000000</td>\n",
       "      <td>16.500000</td>\n",
       "      <td>2019.000000</td>\n",
       "      <td>185.000000</td>\n",
       "    </tr>\n",
       "    <tr>\n",
       "      <th>75%</th>\n",
       "      <td>12.000000</td>\n",
       "      <td>20.250000</td>\n",
       "      <td>2021.000000</td>\n",
       "      <td>273.000000</td>\n",
       "    </tr>\n",
       "    <tr>\n",
       "      <th>max</th>\n",
       "      <td>34.000000</td>\n",
       "      <td>33.125000</td>\n",
       "      <td>2023.000000</td>\n",
       "      <td>365.000000</td>\n",
       "    </tr>\n",
       "  </tbody>\n",
       "</table>\n",
       "</div>"
      ],
      "text/plain": [
       "           site_id  temperature         year          doy\n",
       "count  6487.000000  6487.000000  6487.000000  6487.000000\n",
       "mean     12.505164    16.553695  2019.226761   184.941730\n",
       "std       2.222914     5.002215     2.216171   102.479229\n",
       "min       1.000000    -3.000000  2016.000000     1.000000\n",
       "25%      12.000000    12.402500  2017.000000    97.000000\n",
       "50%      12.000000    16.500000  2019.000000   185.000000\n",
       "75%      12.000000    20.250000  2021.000000   273.000000\n",
       "max      34.000000    33.125000  2023.000000   365.000000"
      ]
     },
     "execution_count": 30,
     "metadata": {},
     "output_type": "execute_result"
    }
   ],
   "source": [
    "predictors.describe()"
   ]
  },
  {
   "cell_type": "code",
   "execution_count": null,
   "id": "e6b9db12",
   "metadata": {},
   "outputs": [
    {
     "name": "stdout",
     "output_type": "stream",
     "text": [
      "Train site-year combos: 46; Test site-year combos: 3\n"
     ]
    }
   ],
   "source": [
    "# ---------- Split train/test (by year) ----------\n",
    "years = sorted(observations['year'].unique())\n",
    "# hold out the latest year as test\n",
    "test_year = years[-1]\n",
    "train_years = years[:-1]\n",
    "\n",
    "obs_train = observations[observations['year'].isin(train_years)]\n",
    "obs_test  = observations[observations['year'] == test_year]\n",
    "\n",
    "preds_train = predictors[predictors['year'].isin(train_years)]\n",
    "preds_test  = predictors[predictors['year'] == test_year]\n",
    "\n",
    "print(f\"Train site-year combos: {len(obs_train)}; Test site-year combos: {len(obs_test)}\")"
   ]
  },
  {
   "cell_type": "code",
   "execution_count": null,
   "id": "1531de4e",
   "metadata": {},
   "outputs": [
    {
     "name": "stderr",
     "output_type": "stream",
     "text": [
      "d:\\VSCode\\Python\\.venv\\Lib\\site-packages\\pyPhenology\\models\\utils\\misc.py:58: UserWarning: Dropped temperature data for doy 1.0 due to missing data. Most likely from leap year mismatch\n",
      "  warn(\"\"\"Dropped temperature data for doy {d} due to missing data. Most likely from leap year mismatch\"\"\".format(d=first_doy_column))\n",
      "d:\\VSCode\\Python\\.venv\\Lib\\site-packages\\pyPhenology\\models\\utils\\misc.py:66: UserWarning: Dropped temperature data for doy 365.0 due to missing data. Most likely from leap year mismatch\n",
      "  warn(\"\"\"Dropped temperature data for doy {d} due to missing data. Most likely from leap year mismatch\"\"\".format(d=last_doy_column))\n",
      "d:\\VSCode\\Python\\.venv\\Lib\\site-packages\\pyPhenology\\models\\utils\\misc.py:81: UserWarning: Dropped 46 of 46 observations because of missing data\n",
      " Missing data from: \n",
      "    site_id  year\n",
      "0         1  2018\n",
      "1         3  2018\n",
      "2         4  2019\n",
      "3         5  2021\n",
      "4         5  2022\n",
      "5         6  2021\n",
      "6         7  2022\n",
      "7         9  2016\n",
      "8        10  2017\n",
      "10       11  2017\n",
      "11       12  2016\n",
      "12       12  2017\n",
      "13       12  2018\n",
      "14       12  2019\n",
      "15       12  2020\n",
      "16       12  2021\n",
      "17       12  2022\n",
      "18       13  2016\n",
      "19       13  2017\n",
      "20       13  2018\n",
      "21       13  2019\n",
      "22       13  2020\n",
      "23       13  2021\n",
      "24       13  2022\n",
      "25       14  2016\n",
      "26       15  2017\n",
      "27       16  2020\n",
      "28       16  2021\n",
      "29       16  2017\n",
      "30       16  2018\n",
      "31       16  2019\n",
      "34       17  2017\n",
      "35       17  2018\n",
      "36       17  2019\n",
      "37       19  2018\n",
      "38       20  2018\n",
      "39       21  2018\n",
      "40       22  2018\n",
      "41       29  2019\n",
      "42       30  2020\n",
      "43       31  2021\n",
      "44       33  2018\n",
      "45       34  2020\n",
      "  warn('Dropped {n0} of {n1} observations because of missing data'.format(n0=n_dropped, n1=original_sample_size) +\n",
      "d:\\VSCode\\Python\\.venv\\Lib\\site-packages\\numpy\\_core\\fromnumeric.py:3860: RuntimeWarning: Mean of empty slice.\n",
      "  return _methods._mean(a, axis=axis, dtype=dtype,\n",
      "d:\\VSCode\\Python\\.venv\\Lib\\site-packages\\numpy\\_core\\_methods.py:144: RuntimeWarning: invalid value encountered in scalar divide\n",
      "  ret = ret.dtype.type(ret / rcount)\n"
     ]
    },
    {
     "name": "stdout",
     "output_type": "stream",
     "text": [
      "Fitted model parameters: {'t1': np.float64(-19.69325300434207), 'T': np.float64(1.9736485233480372), 'F': np.float64(824.1150140305742)}\n"
     ]
    }
   ],
   "source": [
    "# ---------- Train model with pyPhenology ----------\n",
    "from pyPhenology import models\n",
    "\n",
    "# ThermalTime model (standard growing-degree-days)\n",
    "model = models.ThermalTime()\n",
    "\n",
    "# Fit on training observations + predictors\n",
    "# NOTE: fit may take a bit; uses scipy optimizers internally.\n",
    "model.fit(obs_train, preds_train)\n",
    "\n",
    "# fitted parameters\n",
    "params = model.get_params()\n",
    "print(\"Fitted model parameters:\", params)"
   ]
  },
  {
   "cell_type": "code",
   "execution_count": null,
   "id": "7712f0ee",
   "metadata": {},
   "outputs": [
    {
     "name": "stdout",
     "output_type": "stream",
     "text": [
      "Warning: Model returned 0 predictions for 3 test cases. Filling with NaN.\n",
      "No valid predictions to evaluate (all predicted_doy are NaN).\n",
      "   site_id      species  year  predicted_doy  observed_doy  phenophase\n",
      "0        8       annuus  2023            NaN           223         501\n",
      "1       12  californica  2023            NaN           128         501\n",
      "2       13  californica  2023            NaN           115         501\n"
     ]
    },
    {
     "name": "stderr",
     "output_type": "stream",
     "text": [
      "d:\\VSCode\\Python\\.venv\\Lib\\site-packages\\pyPhenology\\models\\utils\\misc.py:58: UserWarning: Dropped temperature data for doy 2.0 due to missing data. Most likely from leap year mismatch\n",
      "  warn(\"\"\"Dropped temperature data for doy {d} due to missing data. Most likely from leap year mismatch\"\"\".format(d=first_doy_column))\n",
      "d:\\VSCode\\Python\\.venv\\Lib\\site-packages\\pyPhenology\\models\\utils\\misc.py:66: UserWarning: Dropped temperature data for doy 365.0 due to missing data. Most likely from leap year mismatch\n",
      "  warn(\"\"\"Dropped temperature data for doy {d} due to missing data. Most likely from leap year mismatch\"\"\".format(d=last_doy_column))\n",
      "d:\\VSCode\\Python\\.venv\\Lib\\site-packages\\pyPhenology\\models\\utils\\misc.py:81: UserWarning: Dropped 3 of 3 observations because of missing data\n",
      " Missing data from: \n",
      "   site_id  year\n",
      "0        8  2023\n",
      "1       12  2023\n",
      "2       13  2023\n",
      "  warn('Dropped {n0} of {n1} observations because of missing data'.format(n0=n_dropped, n1=original_sample_size) +\n"
     ]
    }
   ],
   "source": [
    "# ---------- Predict on test ----------\n",
    "# prepare to_predict - unique site/species/year combos we want predictions for\n",
    "to_predict = obs_test[['site_id','species','year']].drop_duplicates().reset_index(drop=True)\n",
    "\n",
    "# pyPhenology predict API: predict(to_predict, predictors)\n",
    "# try that call and fall back to predict(predictors) if needed\n",
    "try:\n",
    "    pred_vals = model.predict(to_predict, preds_test)\n",
    "except TypeError:\n",
    "    # fallback (some versions accept only predictors)\n",
    "    pred_vals = model.predict(preds_test)\n",
    "\n",
    "# pred_vals expected to be an array/list of predicted DOY for each row in to_predict\n",
    "if len(pred_vals) == len(to_predict):\n",
    "    to_predict['predicted_doy'] = np.array(pred_vals).reshape(-1)\n",
    "else:\n",
    "    print(f\"Warning: Model returned {len(pred_vals)} predictions for {len(to_predict)} test cases. Filling with NaN.\")\n",
    "    to_predict['predicted_doy'] = np.nan\n",
    "\n",
    "# join with observed\n",
    "eval_df = to_predict.merge(\n",
    "    obs_test.rename(columns={'species':'species','doy':'observed_doy'}),\n",
    "    on=['site_id','species','year'],\n",
    "    how='left'\n",
    ")\n",
    "\n",
    "# compute RMSE / MAE only for rows with valid predictions\n",
    "from sklearn.metrics import mean_squared_error, mean_absolute_error\n",
    "valid = eval_df.dropna(subset=['observed_doy', 'predicted_doy'])\n",
    "if len(valid) > 0:\n",
    "    rmse = np.sqrt(mean_squared_error(valid['observed_doy'], valid['predicted_doy']))\n",
    "    mae  = mean_absolute_error(valid['observed_doy'], valid['predicted_doy'])\n",
    "    print(f\"Test RMSE = {rmse:.3f} days; MAE = {mae:.3f} days\")\n",
    "else:\n",
    "    print(\"No valid predictions to evaluate (all predicted_doy are NaN).\")\n",
    "print(eval_df.head())\n"
   ]
  },
  {
   "cell_type": "code",
   "execution_count": null,
   "id": "29b774bb",
   "metadata": {},
   "outputs": [
    {
     "name": "stdout",
     "output_type": "stream",
     "text": [
      "Model saved to pyphenology_thermaltime_model.pkl\n"
     ]
    }
   ],
   "source": [
    "# ---------- Save trained model ----------\n",
    "import joblib\n",
    "joblib.dump(model, 'pyphenology_thermaltime_model.pkl')\n",
    "print(\"Model saved to pyphenology_thermaltime_model.pkl\")"
   ]
  }
 ],
 "metadata": {
  "kernelspec": {
   "display_name": ".venv",
   "language": "python",
   "name": "python3"
  },
  "language_info": {
   "codemirror_mode": {
    "name": "ipython",
    "version": 3
   },
   "file_extension": ".py",
   "mimetype": "text/x-python",
   "name": "python",
   "nbconvert_exporter": "python",
   "pygments_lexer": "ipython3",
   "version": "3.12.5"
  }
 },
 "nbformat": 4,
 "nbformat_minor": 5
}
