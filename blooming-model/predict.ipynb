{
 "cells": [
  {
   "cell_type": "code",
   "execution_count": 61,
   "id": "8a49feed",
   "metadata": {},
   "outputs": [],
   "source": [
    "import numpy as np\n",
    "import pandas as pd\n",
    "import joblib\n",
    "\n",
    "# ---- Simulate temperature series by (lat, lon, species) ----\n",
    "def simulate_temperature_series(lat, lon, year, species,\n",
    "                                base_temp=16, amplitude=8, noise_scale=2,\n",
    "                                species_effects=None):\n",
    "    \"\"\"\n",
    "    Generate a daily temperature time series that depends on \n",
    "    latitude, longitude, and species (deterministic randomization).\n",
    "    \"\"\"\n",
    "\n",
    "    # Apply species-specific overrides if available\n",
    "    if species_effects and species in species_effects:\n",
    "        base_temp = species_effects[species].get('base_temp', base_temp)\n",
    "        amplitude = species_effects[species].get('amplitude', amplitude)\n",
    "\n",
    "    # Create deterministic random seed from (lat, lon, species)\n",
    "    combined_str = f\"{lat:.4f}_{lon:.4f}_{species}\"\n",
    "    seed = abs(hash(combined_str)) % (2**32 - 1)\n",
    "    rng = np.random.default_rng(seed)\n",
    "\n",
    "    days = np.arange(1, 366)\n",
    "\n",
    "    # Seasonal sinusoidal temperature pattern\n",
    "    seasonal = base_temp + amplitude * np.sin(2 * np.pi * (days - 80) / 365)\n",
    "\n",
    "    # Add random noise and latitude-based temperature offset\n",
    "    noise = rng.normal(0, noise_scale, size=len(days))\n",
    "    lat_effect = -0.1 * abs(lat)\n",
    "    temp = seasonal + noise + lat_effect\n",
    "\n",
    "    # Deterministic site_id (stable across calls)\n",
    "    site_str = f\"{lat:.4f}_{lon:.4f}_{species}\"\n",
    "    site_id = pd.factorize([site_str])[0][0] + 1\n",
    "\n",
    "    return pd.DataFrame({\n",
    "        'site_id': site_id,\n",
    "        'year': year,\n",
    "        'doy': days,\n",
    "        'temperature': temp\n",
    "    })\n",
    "\n",
    "\n",
    "# ---- Predict blooming date using the trained model ----\n",
    "def predict_blooming(model, latitude, longitude, species, year):\n",
    "    \"\"\"\n",
    "    Generate simulated temperature data for the given (lat, lon, species),\n",
    "    then use the trained pyPhenology model to predict bloom DOY.\n",
    "    \"\"\"\n",
    "\n",
    "    site_str = f\"{round(latitude,4)}_{round(longitude,4)}_{species}\"\n",
    "    site_id = pd.factorize(np.array([site_str]))[0][0] + 1\n",
    "\n",
    "    # Optional species-specific temperature patterns\n",
    "    species_effects = {\n",
    "        'clusiana': {'base_temp': 14, 'amplitude': 9},\n",
    "        'sativa': {'base_temp': 18, 'amplitude': 7},\n",
    "        'vulgaris': {'base_temp': 16, 'amplitude': 8}\n",
    "    }\n",
    "\n",
    "    # Generate simulated temperature series\n",
    "    doys = simulate_temperature_series(latitude, longitude, year, species,\n",
    "                                       species_effects=species_effects)\n",
    "    \n",
    "    # Prepare DataFrame for prediction\n",
    "    to_predict = pd.DataFrame({\n",
    "        'site_id': [site_id],\n",
    "        'species': [species],\n",
    "        'year': [year]\n",
    "    })\n",
    "    \n",
    "    # Try the two supported pyPhenology prediction APIs\n",
    "    try:\n",
    "        pred_doy = model.predict(to_predict, doys)\n",
    "    except TypeError:\n",
    "        pred_doy = model.predict(doys)\n",
    "    \n",
    "    return float(pred_doy[0])\n"
   ]
  },
  {
   "cell_type": "code",
   "execution_count": null,
   "id": "88dc7d48",
   "metadata": {},
   "outputs": [
    {
     "name": "stdout",
     "output_type": "stream",
     "text": [
      "Predicted blooming day of year: 91.0\n",
      "Predicted blooming date: 2025-04-01\n"
     ]
    },
    {
     "name": "stderr",
     "output_type": "stream",
     "text": [
      "C:\\Users\\nguye\\AppData\\Local\\Temp\\ipykernel_24732\\2116454939.py:36: FutureWarning: factorize with argument that is not not a Series, Index, ExtensionArray, or np.ndarray is deprecated and will raise in a future version.\n",
      "  site_id = pd.factorize([site_str])[0][0] + 1\n"
     ]
    }
   ],
   "source": [
    "from datetime import datetime, timedelta\n",
    "\n",
    "def doy_to_date_vectorized(years, doys):\n",
    "    dates = [datetime(int(y), 1, 1) + timedelta(days=int(d)-1) for y, d in zip(years, doys)]\n",
    "    return pd.Series(dates)\n",
    "\n",
    "model = joblib.load('pyphenology_thermaltime_model.pkl')\n",
    "\n",
    "output = predict_blooming(model,\n",
    "                          latitude=30.0,\n",
    "                          longitude=-110.126457,\n",
    "                          species='lady tulip',\n",
    "                          year=2025)\n",
    "print(f\"Predicted blooming day of year: {output}\")\n",
    "\n",
    "output_date = doy_to_date_vectorized([2025], [output])[0]\n",
    "print(f\"Predicted blooming date: {output_date.date()}\")"
   ]
  }
 ],
 "metadata": {
  "kernelspec": {
   "display_name": ".venv",
   "language": "python",
   "name": "python3"
  },
  "language_info": {
   "codemirror_mode": {
    "name": "ipython",
    "version": 3
   },
   "file_extension": ".py",
   "mimetype": "text/x-python",
   "name": "python",
   "nbconvert_exporter": "python",
   "pygments_lexer": "ipython3",
   "version": "3.12.5"
  }
 },
 "nbformat": 4,
 "nbformat_minor": 5
}
