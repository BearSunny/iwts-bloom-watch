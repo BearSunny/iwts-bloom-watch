{
 "cells": [
  {
   "cell_type": "code",
   "execution_count": 1,
   "id": "81729bdb",
   "metadata": {},
   "outputs": [],
   "source": [
    "# !pip install requests tqdm "
   ]
  },
  {
   "cell_type": "code",
   "execution_count": 2,
   "id": "64c3a78d",
   "metadata": {},
   "outputs": [
    {
     "name": "stderr",
     "output_type": "stream",
     "text": [
      "d:\\VSCode\\Python\\.venv\\Lib\\site-packages\\pyPhenology\\utils.py:2: UserWarning: pkg_resources is deprecated as an API. See https://setuptools.pypa.io/en/latest/pkg_resources.html. The pkg_resources package is slated for removal as early as 2025-11-30. Refrain from using this package or pin to Setuptools<81.\n",
      "  import pkg_resources\n"
     ]
    }
   ],
   "source": [
    "import requests\n",
    "import pandas as pd\n",
    "import numpy as np\n",
    "from pyPhenology import models\n",
    "from tqdm import tqdm\n",
    "import time"
   ]
  },
  {
   "cell_type": "code",
   "execution_count": 3,
   "id": "517d93b1",
   "metadata": {},
   "outputs": [
    {
     "name": "stdout",
     "output_type": "stream",
     "text": [
      "Rows before: 6503, after dropping Phenophase_Status==-1: 6487, dropped: 16\n",
      "Observations (first bloom) sample:\n",
      "  species  site_id  year  doy  phenophase   Latitude   Longitude\n",
      "0  annuus        1  2018   76         501  34.056213 -118.106316\n",
      "1  annuus        3  2018  317         501  35.609299 -106.118263\n",
      "2  annuus        4  2019  131         501  34.140465 -118.167282\n",
      "3  annuus        5  2021  117         501  21.683958 -157.976212\n",
      "4  annuus        5  2022    4         501  21.683958 -157.976212\n"
     ]
    }
   ],
   "source": [
    "df = pd.read_csv('data.csv')\n",
    "\n",
    "unnessary_features = ['Observation_ID', 'Update_Datetime', 'Observation_Time', \n",
    "                      'Site_ID', 'Site_Name', \n",
    "                      'Individual_ID', \n",
    "                      'Phenophase_ID', 'Phenophase_Category', 'Phenophase_Description', \n",
    "                      'Intensity_Category_ID', 'Intensity_Value', 'Abundance_Value', \n",
    "                      'Kingdom', 'Species_Category']\n",
    "\n",
    "df = df.drop(columns=unnessary_features)\n",
    "df = df[df['Day_of_Year'] <= 365]\n",
    "\n",
    "# ---------- Drop Phenophase_Status == -1 and report ----------\n",
    "before = len(df)\n",
    "df = df[df['Phenophase_Status'] != -1].copy()\n",
    "after = len(df)\n",
    "print(f\"Rows before: {before}, after dropping Phenophase_Status==-1: {after}, dropped: {before-after}\")\n",
    "\n",
    "# ---------- Fix -9999 error codes in climate features ----------\n",
    "climate_features = ['AGDD','Tmax','Tmin','Prcp','Accum_Prcp','Daylength']\n",
    "# convert -9999 -> NaN\n",
    "df[climate_features] = df[climate_features].replace(-9999, np.nan)\n",
    "\n",
    "# convert Observation_Date to datetime & create year\n",
    "df['Observation_Date'] = pd.to_datetime(df['Observation_Date'])\n",
    "df['year'] = df['Observation_Date'].dt.year\n",
    "\n",
    "# create site_id from lat/lon (simple deterministic encoding)\n",
    "df['site_id'] = (df['Latitude'].round(4).astype(str) + '_' + df['Longitude'].round(4).astype(str))\n",
    "# Optionally map to integers:\n",
    "df['site_id'] = pd.factorize(df['site_id'])[0] + 1  # site_id as ints starting at 1\n",
    "\n",
    "# create daily mean temperature (pyPhenology examples use \"temperature\")\n",
    "df['temperature'] = (df['Tmax'] + df['Tmin']) / 2.0\n",
    "\n",
    "# ---------- Interpolate climate missing values per site (time-series interpolation) ----------\n",
    "# sort then interpolate by site\n",
    "df = df.sort_values(['site_id','Observation_Date'])\n",
    "df[climate_features] = df.groupby('site_id')[climate_features].transform(\n",
    "    lambda g: g.interpolate(method='linear', limit_direction='both')\n",
    ")\n",
    "# if still NaN (edges), fill with column median (per-site median could be used)\n",
    "df[climate_features] = df[climate_features].fillna(df[climate_features].median())\n",
    "\n",
    "# also recompute temperature if it used NaNs earlier\n",
    "df['temperature'] = (df['Tmax'] + df['Tmin']) / 2.0\n",
    "\n",
    "# ---------- Create observations DataFrame (first bloom DOY) ----------\n",
    "# define first bloom per site-species-year: min Day_of_Year where Phenophase_Status==1\n",
    "bloom_obs = (\n",
    "    df[df['Phenophase_Status'] == 1]\n",
    "    .groupby(['site_id', 'Species', 'year', 'Latitude', 'Longitude'], as_index=False)['Day_of_Year']\n",
    "    .min()\n",
    "    .rename(columns={'Species':'species','Day_of_Year':'doy'})\n",
    ")\n",
    "\n",
    "# If you prefer use Species_ID instead of species string:\n",
    "# bloom_obs = bloom_obs.rename(columns={'Species_ID':'species_id', ...})\n",
    "\n",
    "# pyPhenology example uses a 'phenophase' id; set a single id (e.g. 501 for 'flowers')\n",
    "bloom_obs['phenophase'] = 501\n",
    "\n",
    "# final observations DataFrame columns: ['species','site_id','year','doy','phenophase']\n",
    "observations = bloom_obs[['species','site_id','year','doy','phenophase', 'Latitude', 'Longitude']]\n",
    "\n",
    "print(\"Observations (first bloom) sample:\")\n",
    "print(observations.head())"
   ]
  },
  {
   "cell_type": "code",
   "execution_count": 4,
   "id": "b9ee36fb",
   "metadata": {},
   "outputs": [],
   "source": [
    "observations.to_csv('observations.csv', index=False)"
   ]
  },
  {
   "cell_type": "code",
   "execution_count": 5,
   "id": "88742974",
   "metadata": {},
   "outputs": [
    {
     "data": {
      "text/html": [
       "<div>\n",
       "<style scoped>\n",
       "    .dataframe tbody tr th:only-of-type {\n",
       "        vertical-align: middle;\n",
       "    }\n",
       "\n",
       "    .dataframe tbody tr th {\n",
       "        vertical-align: top;\n",
       "    }\n",
       "\n",
       "    .dataframe thead th {\n",
       "        text-align: right;\n",
       "    }\n",
       "</style>\n",
       "<table border=\"1\" class=\"dataframe\">\n",
       "  <thead>\n",
       "    <tr style=\"text-align: right;\">\n",
       "      <th></th>\n",
       "      <th>Latitude</th>\n",
       "      <th>Longitude</th>\n",
       "      <th>Elevation_in_Meters</th>\n",
       "      <th>Species_ID</th>\n",
       "      <th>Observation_Date</th>\n",
       "      <th>Day_of_Year</th>\n",
       "      <th>Phenophase_Status</th>\n",
       "      <th>AGDD</th>\n",
       "      <th>Tmax</th>\n",
       "      <th>Tmin</th>\n",
       "      <th>Prcp</th>\n",
       "      <th>Accum_Prcp</th>\n",
       "      <th>Daylength</th>\n",
       "      <th>year</th>\n",
       "      <th>site_id</th>\n",
       "      <th>temperature</th>\n",
       "    </tr>\n",
       "  </thead>\n",
       "  <tbody>\n",
       "    <tr>\n",
       "      <th>count</th>\n",
       "      <td>6487.000000</td>\n",
       "      <td>6487.000000</td>\n",
       "      <td>6487.000000</td>\n",
       "      <td>6487.000000</td>\n",
       "      <td>6487</td>\n",
       "      <td>6487.000000</td>\n",
       "      <td>6487.000000</td>\n",
       "      <td>6487.000000</td>\n",
       "      <td>6487.000000</td>\n",
       "      <td>6487.000000</td>\n",
       "      <td>6487.000000</td>\n",
       "      <td>6487.000000</td>\n",
       "      <td>6487.000000</td>\n",
       "      <td>6487.000000</td>\n",
       "      <td>6487.000000</td>\n",
       "      <td>6487.000000</td>\n",
       "    </tr>\n",
       "    <tr>\n",
       "      <th>mean</th>\n",
       "      <td>37.529104</td>\n",
       "      <td>-122.080746</td>\n",
       "      <td>76.217049</td>\n",
       "      <td>1148.081239</td>\n",
       "      <td>2019-09-24 21:25:56.651765248</td>\n",
       "      <td>184.941730</td>\n",
       "      <td>0.156775</td>\n",
       "      <td>2905.004540</td>\n",
       "      <td>22.788048</td>\n",
       "      <td>10.319342</td>\n",
       "      <td>1.230627</td>\n",
       "      <td>343.166197</td>\n",
       "      <td>43496.177586</td>\n",
       "      <td>2019.226761</td>\n",
       "      <td>12.505164</td>\n",
       "      <td>16.553695</td>\n",
       "    </tr>\n",
       "    <tr>\n",
       "      <th>min</th>\n",
       "      <td>21.683958</td>\n",
       "      <td>-157.976212</td>\n",
       "      <td>0.000000</td>\n",
       "      <td>203.000000</td>\n",
       "      <td>2016-01-04 00:00:00</td>\n",
       "      <td>1.000000</td>\n",
       "      <td>0.000000</td>\n",
       "      <td>8.000000</td>\n",
       "      <td>3.000000</td>\n",
       "      <td>-9.000000</td>\n",
       "      <td>0.000000</td>\n",
       "      <td>0.000000</td>\n",
       "      <td>33523.000000</td>\n",
       "      <td>2016.000000</td>\n",
       "      <td>1.000000</td>\n",
       "      <td>-3.000000</td>\n",
       "    </tr>\n",
       "    <tr>\n",
       "      <th>25%</th>\n",
       "      <td>37.978359</td>\n",
       "      <td>-122.126457</td>\n",
       "      <td>63.000000</td>\n",
       "      <td>1161.000000</td>\n",
       "      <td>2017-10-03 12:00:00</td>\n",
       "      <td>97.000000</td>\n",
       "      <td>0.000000</td>\n",
       "      <td>1162.750000</td>\n",
       "      <td>17.570000</td>\n",
       "      <td>7.420000</td>\n",
       "      <td>0.000000</td>\n",
       "      <td>125.430000</td>\n",
       "      <td>37515.000000</td>\n",
       "      <td>2017.000000</td>\n",
       "      <td>12.000000</td>\n",
       "      <td>12.402500</td>\n",
       "    </tr>\n",
       "    <tr>\n",
       "      <th>50%</th>\n",
       "      <td>37.978359</td>\n",
       "      <td>-122.126457</td>\n",
       "      <td>63.000000</td>\n",
       "      <td>1161.000000</td>\n",
       "      <td>2019-09-26 00:00:00</td>\n",
       "      <td>185.000000</td>\n",
       "      <td>0.000000</td>\n",
       "      <td>2746.070000</td>\n",
       "      <td>22.880000</td>\n",
       "      <td>10.500000</td>\n",
       "      <td>0.000000</td>\n",
       "      <td>325.000000</td>\n",
       "      <td>43639.000000</td>\n",
       "      <td>2019.000000</td>\n",
       "      <td>12.000000</td>\n",
       "      <td>16.500000</td>\n",
       "    </tr>\n",
       "    <tr>\n",
       "      <th>75%</th>\n",
       "      <td>37.978359</td>\n",
       "      <td>-122.126457</td>\n",
       "      <td>63.000000</td>\n",
       "      <td>1161.000000</td>\n",
       "      <td>2021-07-24 00:00:00</td>\n",
       "      <td>273.000000</td>\n",
       "      <td>0.000000</td>\n",
       "      <td>4654.500000</td>\n",
       "      <td>27.500000</td>\n",
       "      <td>13.450000</td>\n",
       "      <td>0.000000</td>\n",
       "      <td>540.000000</td>\n",
       "      <td>49605.000000</td>\n",
       "      <td>2021.000000</td>\n",
       "      <td>12.000000</td>\n",
       "      <td>20.250000</td>\n",
       "    </tr>\n",
       "    <tr>\n",
       "      <th>max</th>\n",
       "      <td>43.212009</td>\n",
       "      <td>-77.429008</td>\n",
       "      <td>1872.000000</td>\n",
       "      <td>1648.000000</td>\n",
       "      <td>2023-12-31 00:00:00</td>\n",
       "      <td>365.000000</td>\n",
       "      <td>1.000000</td>\n",
       "      <td>8529.030000</td>\n",
       "      <td>42.030000</td>\n",
       "      <td>24.760000</td>\n",
       "      <td>60.000000</td>\n",
       "      <td>1584.000000</td>\n",
       "      <td>52786.000000</td>\n",
       "      <td>2023.000000</td>\n",
       "      <td>34.000000</td>\n",
       "      <td>33.125000</td>\n",
       "    </tr>\n",
       "    <tr>\n",
       "      <th>std</th>\n",
       "      <td>1.604425</td>\n",
       "      <td>3.431580</td>\n",
       "      <td>118.954435</td>\n",
       "      <td>133.569483</td>\n",
       "      <td>NaN</td>\n",
       "      <td>102.479229</td>\n",
       "      <td>0.363617</td>\n",
       "      <td>1883.797615</td>\n",
       "      <td>6.275225</td>\n",
       "      <td>4.160992</td>\n",
       "      <td>4.746437</td>\n",
       "      <td>248.348575</td>\n",
       "      <td>6372.269746</td>\n",
       "      <td>2.216171</td>\n",
       "      <td>2.222914</td>\n",
       "      <td>5.002215</td>\n",
       "    </tr>\n",
       "  </tbody>\n",
       "</table>\n",
       "</div>"
      ],
      "text/plain": [
       "          Latitude    Longitude  Elevation_in_Meters   Species_ID  \\\n",
       "count  6487.000000  6487.000000          6487.000000  6487.000000   \n",
       "mean     37.529104  -122.080746            76.217049  1148.081239   \n",
       "min      21.683958  -157.976212             0.000000   203.000000   \n",
       "25%      37.978359  -122.126457            63.000000  1161.000000   \n",
       "50%      37.978359  -122.126457            63.000000  1161.000000   \n",
       "75%      37.978359  -122.126457            63.000000  1161.000000   \n",
       "max      43.212009   -77.429008          1872.000000  1648.000000   \n",
       "std       1.604425     3.431580           118.954435   133.569483   \n",
       "\n",
       "                    Observation_Date  Day_of_Year  Phenophase_Status  \\\n",
       "count                           6487  6487.000000        6487.000000   \n",
       "mean   2019-09-24 21:25:56.651765248   184.941730           0.156775   \n",
       "min              2016-01-04 00:00:00     1.000000           0.000000   \n",
       "25%              2017-10-03 12:00:00    97.000000           0.000000   \n",
       "50%              2019-09-26 00:00:00   185.000000           0.000000   \n",
       "75%              2021-07-24 00:00:00   273.000000           0.000000   \n",
       "max              2023-12-31 00:00:00   365.000000           1.000000   \n",
       "std                              NaN   102.479229           0.363617   \n",
       "\n",
       "              AGDD         Tmax         Tmin         Prcp   Accum_Prcp  \\\n",
       "count  6487.000000  6487.000000  6487.000000  6487.000000  6487.000000   \n",
       "mean   2905.004540    22.788048    10.319342     1.230627   343.166197   \n",
       "min       8.000000     3.000000    -9.000000     0.000000     0.000000   \n",
       "25%    1162.750000    17.570000     7.420000     0.000000   125.430000   \n",
       "50%    2746.070000    22.880000    10.500000     0.000000   325.000000   \n",
       "75%    4654.500000    27.500000    13.450000     0.000000   540.000000   \n",
       "max    8529.030000    42.030000    24.760000    60.000000  1584.000000   \n",
       "std    1883.797615     6.275225     4.160992     4.746437   248.348575   \n",
       "\n",
       "          Daylength         year      site_id  temperature  \n",
       "count   6487.000000  6487.000000  6487.000000  6487.000000  \n",
       "mean   43496.177586  2019.226761    12.505164    16.553695  \n",
       "min    33523.000000  2016.000000     1.000000    -3.000000  \n",
       "25%    37515.000000  2017.000000    12.000000    12.402500  \n",
       "50%    43639.000000  2019.000000    12.000000    16.500000  \n",
       "75%    49605.000000  2021.000000    12.000000    20.250000  \n",
       "max    52786.000000  2023.000000    34.000000    33.125000  \n",
       "std     6372.269746     2.216171     2.222914     5.002215  "
      ]
     },
     "execution_count": 5,
     "metadata": {},
     "output_type": "execute_result"
    }
   ],
   "source": [
    "df.describe()"
   ]
  },
  {
   "cell_type": "code",
   "execution_count": null,
   "id": "4f3c7a20",
   "metadata": {},
   "outputs": [],
   "source": [
    "def get_nasa_temperature(lat, lon, start_year, end_year):\n",
    "    url = \"https://power.larc.nasa.gov/api/temporal/daily/point\"\n",
    "    params = {\n",
    "        \"start\": f\"{start_year}0101\",\n",
    "        \"end\": f\"{end_year}1231\",\n",
    "        \"latitude\": lat,\n",
    "        \"longitude\": lon,\n",
    "        \"community\": \"AG\",\n",
    "        \"parameters\": \"T2M\",\n",
    "        \"format\": \"JSON\"\n",
    "    }\n",
    "    tries = 0\n",
    "    while tries < 3:\n",
    "        try:\n",
    "            response = requests.get(url, params=params, timeout=30)\n",
    "            data = response.json()\n",
    "            temp_data = data[\"properties\"][\"parameter\"][\"T2M\"]\n",
    "            df = pd.DataFrame(list(temp_data.items()), columns=[\"date\", \"temperature\"])\n",
    "            df[\"date\"] = pd.to_datetime(df[\"date\"], format=\"%Y%m%d\")\n",
    "            df[\"year\"] = df[\"date\"].dt.year\n",
    "            df[\"doy\"] = df[\"date\"].dt.dayofyear\n",
    "            return df[[\"year\", \"doy\", \"temperature\"]]\n",
    "        except Exception as e:\n",
    "            tries += 1\n",
    "            print(f\"⚠️ Retry {tries}/3 due to: {e}\")\n",
    "            time.sleep(2)\n",
    "    return pd.DataFrame()\n",
    "\n",
    "def build_predictor_table(obs_df):\n",
    "    predictors = []\n",
    "    print(\"🌡 Fetching temperature data for each site ...\")\n",
    "    for site_id, g in tqdm(obs_df.groupby('site_id')):\n",
    "        lat = g['Latitude'].iloc[0]\n",
    "        lon = g['Longitude'].iloc[0]\n",
    "        years = g['year'].unique()\n",
    "        df_temp = get_nasa_temperature(lat, lon, years.min(), years.max())\n",
    "        if df_temp.empty:\n",
    "            continue\n",
    "        df_temp['site_id'] = site_id\n",
    "        predictors.append(df_temp)\n",
    "    df_pred = pd.concat(predictors, ignore_index=True)\n",
    "    print(f\"✅ Built predictors table: {len(df_pred)} rows.\")\n",
    "    return df_pred"
   ]
  },
  {
   "cell_type": "code",
   "execution_count": 9,
   "id": "592da106",
   "metadata": {},
   "outputs": [
    {
     "name": "stdout",
     "output_type": "stream",
     "text": [
      "🌡 Fetching temperature data for each site ...\n"
     ]
    },
    {
     "name": "stderr",
     "output_type": "stream",
     "text": [
      "100%|██████████| 25/25 [00:46<00:00,  1.84s/it]"
     ]
    },
    {
     "name": "stdout",
     "output_type": "stream",
     "text": [
      "✅ Built predictors table: 16799 rows.\n"
     ]
    },
    {
     "name": "stderr",
     "output_type": "stream",
     "text": [
      "\n"
     ]
    }
   ],
   "source": [
    "predictors = build_predictor_table(observations)"
   ]
  },
  {
   "cell_type": "code",
   "execution_count": 15,
   "id": "463ce5f8",
   "metadata": {},
   "outputs": [],
   "source": [
    "predictors = predictors[predictors['doy'] <= 365].copy()"
   ]
  },
  {
   "cell_type": "code",
   "execution_count": 16,
   "id": "fa90bf18",
   "metadata": {},
   "outputs": [
    {
     "name": "stdout",
     "output_type": "stream",
     "text": [
      "count     25.0\n",
      "mean     365.0\n",
      "std        0.0\n",
      "min      365.0\n",
      "25%      365.0\n",
      "50%      365.0\n",
      "75%      365.0\n",
      "max      365.0\n",
      "Name: doy, dtype: float64\n"
     ]
    }
   ],
   "source": [
    "# print(predictors.groupby('site_id')['year'].nunique())\n",
    "print(predictors.groupby('site_id')['doy'].max().describe())"
   ]
  },
  {
   "cell_type": "code",
   "execution_count": 18,
   "id": "2213d81c",
   "metadata": {},
   "outputs": [],
   "source": [
    "predictors.to_csv('predictors.csv', index=False)"
   ]
  },
  {
   "cell_type": "code",
   "execution_count": 19,
   "id": "252096c7",
   "metadata": {},
   "outputs": [],
   "source": [
    "observations = observations[['site_id', 'year', 'doy', 'phenophase']]"
   ]
  },
  {
   "cell_type": "code",
   "execution_count": 21,
   "id": "e1a43941",
   "metadata": {},
   "outputs": [
    {
     "data": {
      "text/html": [
       "<div>\n",
       "<style scoped>\n",
       "    .dataframe tbody tr th:only-of-type {\n",
       "        vertical-align: middle;\n",
       "    }\n",
       "\n",
       "    .dataframe tbody tr th {\n",
       "        vertical-align: top;\n",
       "    }\n",
       "\n",
       "    .dataframe thead th {\n",
       "        text-align: right;\n",
       "    }\n",
       "</style>\n",
       "<table border=\"1\" class=\"dataframe\">\n",
       "  <thead>\n",
       "    <tr style=\"text-align: right;\">\n",
       "      <th></th>\n",
       "      <th>site_id</th>\n",
       "      <th>year</th>\n",
       "      <th>doy</th>\n",
       "      <th>phenophase</th>\n",
       "    </tr>\n",
       "  </thead>\n",
       "  <tbody>\n",
       "    <tr>\n",
       "      <th>0</th>\n",
       "      <td>1</td>\n",
       "      <td>2018</td>\n",
       "      <td>76</td>\n",
       "      <td>501</td>\n",
       "    </tr>\n",
       "    <tr>\n",
       "      <th>1</th>\n",
       "      <td>3</td>\n",
       "      <td>2018</td>\n",
       "      <td>317</td>\n",
       "      <td>501</td>\n",
       "    </tr>\n",
       "    <tr>\n",
       "      <th>2</th>\n",
       "      <td>4</td>\n",
       "      <td>2019</td>\n",
       "      <td>131</td>\n",
       "      <td>501</td>\n",
       "    </tr>\n",
       "    <tr>\n",
       "      <th>3</th>\n",
       "      <td>5</td>\n",
       "      <td>2021</td>\n",
       "      <td>117</td>\n",
       "      <td>501</td>\n",
       "    </tr>\n",
       "    <tr>\n",
       "      <th>4</th>\n",
       "      <td>5</td>\n",
       "      <td>2022</td>\n",
       "      <td>4</td>\n",
       "      <td>501</td>\n",
       "    </tr>\n",
       "  </tbody>\n",
       "</table>\n",
       "</div>"
      ],
      "text/plain": [
       "   site_id  year  doy  phenophase\n",
       "0        1  2018   76         501\n",
       "1        3  2018  317         501\n",
       "2        4  2019  131         501\n",
       "3        5  2021  117         501\n",
       "4        5  2022    4         501"
      ]
     },
     "execution_count": 21,
     "metadata": {},
     "output_type": "execute_result"
    }
   ],
   "source": [
    "observations.head()"
   ]
  },
  {
   "cell_type": "code",
   "execution_count": 22,
   "id": "d87c66d9",
   "metadata": {},
   "outputs": [
    {
     "data": {
      "text/html": [
       "<div>\n",
       "<style scoped>\n",
       "    .dataframe tbody tr th:only-of-type {\n",
       "        vertical-align: middle;\n",
       "    }\n",
       "\n",
       "    .dataframe tbody tr th {\n",
       "        vertical-align: top;\n",
       "    }\n",
       "\n",
       "    .dataframe thead th {\n",
       "        text-align: right;\n",
       "    }\n",
       "</style>\n",
       "<table border=\"1\" class=\"dataframe\">\n",
       "  <thead>\n",
       "    <tr style=\"text-align: right;\">\n",
       "      <th></th>\n",
       "      <th>year</th>\n",
       "      <th>doy</th>\n",
       "      <th>temperature</th>\n",
       "      <th>site_id</th>\n",
       "    </tr>\n",
       "  </thead>\n",
       "  <tbody>\n",
       "    <tr>\n",
       "      <th>0</th>\n",
       "      <td>2018</td>\n",
       "      <td>1</td>\n",
       "      <td>15.53</td>\n",
       "      <td>1</td>\n",
       "    </tr>\n",
       "    <tr>\n",
       "      <th>1</th>\n",
       "      <td>2018</td>\n",
       "      <td>2</td>\n",
       "      <td>17.42</td>\n",
       "      <td>1</td>\n",
       "    </tr>\n",
       "    <tr>\n",
       "      <th>2</th>\n",
       "      <td>2018</td>\n",
       "      <td>3</td>\n",
       "      <td>17.75</td>\n",
       "      <td>1</td>\n",
       "    </tr>\n",
       "    <tr>\n",
       "      <th>3</th>\n",
       "      <td>2018</td>\n",
       "      <td>4</td>\n",
       "      <td>16.86</td>\n",
       "      <td>1</td>\n",
       "    </tr>\n",
       "    <tr>\n",
       "      <th>4</th>\n",
       "      <td>2018</td>\n",
       "      <td>5</td>\n",
       "      <td>16.30</td>\n",
       "      <td>1</td>\n",
       "    </tr>\n",
       "  </tbody>\n",
       "</table>\n",
       "</div>"
      ],
      "text/plain": [
       "   year  doy  temperature  site_id\n",
       "0  2018    1        15.53        1\n",
       "1  2018    2        17.42        1\n",
       "2  2018    3        17.75        1\n",
       "3  2018    4        16.86        1\n",
       "4  2018    5        16.30        1"
      ]
     },
     "execution_count": 22,
     "metadata": {},
     "output_type": "execute_result"
    }
   ],
   "source": [
    "predictors.head()"
   ]
  },
  {
   "cell_type": "code",
   "execution_count": 23,
   "id": "8e7c7afb",
   "metadata": {},
   "outputs": [
    {
     "name": "stdout",
     "output_type": "stream",
     "text": [
      "Train site-year combos: 46; Test site-year combos: 3\n"
     ]
    }
   ],
   "source": [
    "# ---------- Split train/test (by year) ----------\n",
    "years = sorted(observations['year'].unique())\n",
    "# hold out the latest year as test\n",
    "test_year = years[-1]\n",
    "train_years = years[:-1]\n",
    "\n",
    "obs_train = observations[observations['year'].isin(train_years)]\n",
    "obs_test  = observations[observations['year'] == test_year]\n",
    "\n",
    "preds_train = predictors[predictors['year'].isin(train_years)]\n",
    "preds_test  = predictors[predictors['year'] == test_year]\n",
    "\n",
    "print(f\"Train site-year combos: {len(obs_train)}; Test site-year combos: {len(obs_test)}\")"
   ]
  },
  {
   "cell_type": "code",
   "execution_count": null,
   "id": "9da5b945",
   "metadata": {},
   "outputs": [
    {
     "name": "stdout",
     "output_type": "stream",
     "text": [
      "Fitted model parameters: {'t1': np.float64(33.0825654310663), 'T': np.float64(8.614206817541053), 'F': np.float64(991.0134587952043)}\n"
     ]
    }
   ],
   "source": [
    "# ThermalTime model (standard growing-degree-days)\n",
    "model = models.ThermalTime()\n",
    "\n",
    "# Fit on training observations + predictors\n",
    "# NOTE: fit may take a bit; uses scipy optimizers internally.\n",
    "model.fit(obs_train, preds_train)\n",
    "\n",
    "# fitted parameters\n",
    "params = model.get_params()\n",
    "print(\"Fitted model parameters:\", params)"
   ]
  },
  {
   "cell_type": "code",
   "execution_count": 25,
   "id": "630ddc69",
   "metadata": {},
   "outputs": [
    {
     "name": "stdout",
     "output_type": "stream",
     "text": [
      "[111 151 121  77  75]\n",
      "NaN ratio: 0.0\n"
     ]
    }
   ],
   "source": [
    "y_pred = model.predict(obs_train, preds_train)\n",
    "print(y_pred[:5])  # Show first 5 predictions\n",
    "print(\"NaN ratio:\", np.isnan(y_pred).mean())"
   ]
  },
  {
   "cell_type": "code",
   "execution_count": null,
   "id": "60e4d302",
   "metadata": {},
   "outputs": [
    {
     "name": "stdout",
     "output_type": "stream",
     "text": [
      "✅ Evaluation complete:\n",
      "   RMSE = 47.15 days\n",
      "   MAE  = 41.33 days\n",
      "\n",
      "Sample predictions:\n",
      "   site_id  year  doy  doy_predicted\n",
      "0        8  2023  223            150\n",
      "1       12  2023  128            149\n",
      "2       13  2023  115            145\n"
     ]
    }
   ],
   "source": [
    "# ---------- Predict on test ----------\n",
    "pred_vals = model.predict(obs_test, preds_test)\n",
    "\n",
    "# convert predictions to DataFrame for merging\n",
    "predictions_df = obs_test.copy()\n",
    "predictions_df['doy_predicted'] = pred_vals\n",
    "\n",
    "comparison = obs_test.merge(\n",
    "    predictions_df[['site_id', 'year', 'phenophase', 'doy_predicted']],\n",
    "    on=['site_id', 'year', 'phenophase'],\n",
    "    suffixes=('_obs', '_pred')\n",
    ")\n",
    "\n",
    "# compute RMSE / MAE only for rows with valid predictions\n",
    "from sklearn.metrics import mean_squared_error, mean_absolute_error\n",
    "rmse = np.sqrt(mean_squared_error(comparison['doy'], comparison['doy_predicted']))\n",
    "mae = mean_absolute_error(comparison['doy'], comparison['doy_predicted'])\n",
    "\n",
    "print(f\"✅ Evaluation complete:\")\n",
    "print(f\"   RMSE = {rmse:.2f} days\")\n",
    "print(f\"   MAE  = {mae:.2f} days\")\n",
    "\n",
    "print(\"\\nSample predictions:\")\n",
    "print(comparison[['site_id', 'year', 'doy', 'doy_predicted']].head())\n"
   ]
  },
  {
   "cell_type": "code",
   "execution_count": 39,
   "id": "53900c80",
   "metadata": {},
   "outputs": [
    {
     "name": "stdout",
     "output_type": "stream",
     "text": [
      "Model saved to pyphenology_thermaltime_model.pkl\n"
     ]
    }
   ],
   "source": [
    "import joblib\n",
    "joblib.dump(model, 'pyphenology_thermaltime_model.pkl')\n",
    "print(\"Model saved to pyphenology_thermaltime_model.pkl\")"
   ]
  }
 ],
 "metadata": {
  "kernelspec": {
   "display_name": ".venv",
   "language": "python",
   "name": "python3"
  },
  "language_info": {
   "codemirror_mode": {
    "name": "ipython",
    "version": 3
   },
   "file_extension": ".py",
   "mimetype": "text/x-python",
   "name": "python",
   "nbconvert_exporter": "python",
   "pygments_lexer": "ipython3",
   "version": "3.12.5"
  }
 },
 "nbformat": 4,
 "nbformat_minor": 5
}
